{
 "cells": [
  {
   "attachments": {},
   "cell_type": "markdown",
   "metadata": {},
   "source": [
    "# GWP # 1\n",
    "\n",
    "s101 MScFE 560 Financial Markets \n",
    "\n",
    "Jaepil Choi\n",
    "\n",
    "## My Portfolio: Portfolio A\n",
    "\n",
    "Buy 1 stock and short 1 stock"
   ]
  },
  {
   "cell_type": "code",
   "execution_count": 166,
   "metadata": {},
   "outputs": [],
   "source": [
    "from typing import Tuple\n",
    "\n",
    "import pandas as pd\n",
    "import numpy as np\n",
    "\n",
    "from itertools import permutations"
   ]
  },
  {
   "attachments": {},
   "cell_type": "markdown",
   "metadata": {},
   "source": [
    "## Step 1\n",
    "\n",
    "For each investment, you are given statistics in this .csv file the stock’s.\n",
    "You also have the correlation and covariance matrix of historical returns (download this\n",
    ".csv file)\n",
    "\n",
    "1. Average return\n",
    "2. Volatility\n",
    "3. Skewness\n",
    "4. Kurtosis\n",
    "\n",
    "You must compute the portfolio’s average return and portfolio volatility. You do not\n",
    "need to compute the portfolio skewness and portfolio kurtosis."
   ]
  },
  {
   "cell_type": "code",
   "execution_count": 167,
   "metadata": {},
   "outputs": [
    {
     "data": {
      "text/html": [
       "<div>\n",
       "<style scoped>\n",
       "    .dataframe tbody tr th:only-of-type {\n",
       "        vertical-align: middle;\n",
       "    }\n",
       "\n",
       "    .dataframe tbody tr th {\n",
       "        vertical-align: top;\n",
       "    }\n",
       "\n",
       "    .dataframe thead th {\n",
       "        text-align: right;\n",
       "    }\n",
       "</style>\n",
       "<table border=\"1\" class=\"dataframe\">\n",
       "  <thead>\n",
       "    <tr style=\"text-align: right;\">\n",
       "      <th></th>\n",
       "      <th>AAPL</th>\n",
       "      <th>AMZN</th>\n",
       "      <th>NFLX</th>\n",
       "      <th>META</th>\n",
       "      <th>GOOG</th>\n",
       "    </tr>\n",
       "  </thead>\n",
       "  <tbody>\n",
       "    <tr>\n",
       "      <th>Mean</th>\n",
       "      <td>0.044858</td>\n",
       "      <td>0.010362</td>\n",
       "      <td>-0.029675</td>\n",
       "      <td>-0.006934</td>\n",
       "      <td>0.029035</td>\n",
       "    </tr>\n",
       "    <tr>\n",
       "      <th>St Dev</th>\n",
       "      <td>0.009320</td>\n",
       "      <td>0.009557</td>\n",
       "      <td>0.013409</td>\n",
       "      <td>0.011582</td>\n",
       "      <td>0.008376</td>\n",
       "    </tr>\n",
       "    <tr>\n",
       "      <th>Skew</th>\n",
       "      <td>-0.335173</td>\n",
       "      <td>-0.312865</td>\n",
       "      <td>-3.101654</td>\n",
       "      <td>-1.936506</td>\n",
       "      <td>-0.197700</td>\n",
       "    </tr>\n",
       "    <tr>\n",
       "      <th>Kurt</th>\n",
       "      <td>5.034093</td>\n",
       "      <td>4.729806</td>\n",
       "      <td>41.968015</td>\n",
       "      <td>23.289236</td>\n",
       "      <td>4.310171</td>\n",
       "    </tr>\n",
       "  </tbody>\n",
       "</table>\n",
       "</div>"
      ],
      "text/plain": [
       "            AAPL      AMZN       NFLX       META      GOOG\n",
       "Mean    0.044858  0.010362  -0.029675  -0.006934  0.029035\n",
       "St Dev  0.009320  0.009557   0.013409   0.011582  0.008376\n",
       "Skew   -0.335173 -0.312865  -3.101654  -1.936506 -0.197700\n",
       "Kurt    5.034093  4.729806  41.968015  23.289236  4.310171"
      ]
     },
     "execution_count": 167,
     "metadata": {},
     "output_type": "execute_result"
    }
   ],
   "source": [
    "statistics_df = pd.read_csv('MScFE560_FM_GWP1_Data.csv', nrows=4, index_col=0)\n",
    "statistics_df = statistics_df.iloc[:, :5]\n",
    "statistics_df"
   ]
  },
  {
   "attachments": {},
   "cell_type": "markdown",
   "metadata": {},
   "source": [
    "In covariance matrix, `GOOGL` (Alphabet Inc Class A) is given instead of `GOOG` (Alphabet Inc Class C). \n",
    "\n",
    "To match the name, I changed `GOOGL` to `GOOG`"
   ]
  },
  {
   "cell_type": "code",
   "execution_count": 168,
   "metadata": {},
   "outputs": [
    {
     "data": {
      "text/html": [
       "<div>\n",
       "<style scoped>\n",
       "    .dataframe tbody tr th:only-of-type {\n",
       "        vertical-align: middle;\n",
       "    }\n",
       "\n",
       "    .dataframe tbody tr th {\n",
       "        vertical-align: top;\n",
       "    }\n",
       "\n",
       "    .dataframe thead th {\n",
       "        text-align: right;\n",
       "    }\n",
       "</style>\n",
       "<table border=\"1\" class=\"dataframe\">\n",
       "  <thead>\n",
       "    <tr style=\"text-align: right;\">\n",
       "      <th></th>\n",
       "      <th>AAPL</th>\n",
       "      <th>AMZN</th>\n",
       "      <th>NFLX</th>\n",
       "      <th>META</th>\n",
       "      <th>GOOG</th>\n",
       "    </tr>\n",
       "  </thead>\n",
       "  <tbody>\n",
       "    <tr>\n",
       "      <th>AAPL</th>\n",
       "      <td>1.000000</td>\n",
       "      <td>0.660739</td>\n",
       "      <td>0.460041</td>\n",
       "      <td>0.594785</td>\n",
       "      <td>0.698431</td>\n",
       "    </tr>\n",
       "    <tr>\n",
       "      <th>AMZN</th>\n",
       "      <td>0.660739</td>\n",
       "      <td>1.000000</td>\n",
       "      <td>0.593812</td>\n",
       "      <td>0.626198</td>\n",
       "      <td>0.679323</td>\n",
       "    </tr>\n",
       "    <tr>\n",
       "      <th>NFLX</th>\n",
       "      <td>0.460041</td>\n",
       "      <td>0.593812</td>\n",
       "      <td>1.000000</td>\n",
       "      <td>0.515892</td>\n",
       "      <td>0.492697</td>\n",
       "    </tr>\n",
       "    <tr>\n",
       "      <th>META</th>\n",
       "      <td>0.594785</td>\n",
       "      <td>0.626198</td>\n",
       "      <td>0.515892</td>\n",
       "      <td>1.000000</td>\n",
       "      <td>0.668024</td>\n",
       "    </tr>\n",
       "    <tr>\n",
       "      <th>GOOG</th>\n",
       "      <td>0.698431</td>\n",
       "      <td>0.679323</td>\n",
       "      <td>0.492697</td>\n",
       "      <td>0.668024</td>\n",
       "      <td>1.000000</td>\n",
       "    </tr>\n",
       "  </tbody>\n",
       "</table>\n",
       "</div>"
      ],
      "text/plain": [
       "          AAPL      AMZN      NFLX      META      GOOG\n",
       "AAPL  1.000000  0.660739  0.460041  0.594785  0.698431\n",
       "AMZN  0.660739  1.000000  0.593812  0.626198  0.679323\n",
       "NFLX  0.460041  0.593812  1.000000  0.515892  0.492697\n",
       "META  0.594785  0.626198  0.515892  1.000000  0.668024\n",
       "GOOG  0.698431  0.679323  0.492697  0.668024  1.000000"
      ]
     },
     "execution_count": 168,
     "metadata": {},
     "output_type": "execute_result"
    }
   ],
   "source": [
    "corr_matrix_df = pd.read_csv('MScFE560_FM_GWP1_Data.csv', skiprows=5, nrows=6, header=1, index_col=0)\n",
    "corr_matrix_df = corr_matrix_df.iloc[:, :5]\n",
    "corr_matrix_df.rename({'GOOGL': 'GOOG'}, axis=0, inplace=True)\n",
    "corr_matrix_df.rename({'GOOGL': 'GOOG'}, axis=1, inplace=True)\n",
    "corr_matrix_df"
   ]
  },
  {
   "attachments": {},
   "cell_type": "markdown",
   "metadata": {},
   "source": [
    "### 1-1 Portfolio's average return"
   ]
  },
  {
   "cell_type": "code",
   "execution_count": 169,
   "metadata": {},
   "outputs": [],
   "source": [
    "mean = statistics_df.loc['Mean', :] \n",
    "std = statistics_df.loc['St Dev', :]"
   ]
  },
  {
   "cell_type": "code",
   "execution_count": 170,
   "metadata": {},
   "outputs": [
    {
     "data": {
      "text/plain": [
       "Index(['AAPL', 'AMZN', 'NFLX', 'META', 'GOOG'], dtype='object')"
      ]
     },
     "execution_count": 170,
     "metadata": {},
     "output_type": "execute_result"
    }
   ],
   "source": [
    "sid_list = statistics_df.columns\n",
    "sid_list"
   ]
  },
  {
   "attachments": {},
   "cell_type": "markdown",
   "metadata": {},
   "source": [
    "Since I can long 1 stock and short 1 stock, there are $ 2^5 $ number of cases"
   ]
  },
  {
   "cell_type": "code",
   "execution_count": 171,
   "metadata": {},
   "outputs": [],
   "source": [
    "longshort_cases = permutations(sid_list, 2)\n",
    "longshort_cases = list(longshort_cases)"
   ]
  },
  {
   "attachments": {},
   "cell_type": "markdown",
   "metadata": {},
   "source": [
    "Portfolio return formula:\n",
    "\n",
    "$$ PortfolioReturn = w_a * r_a + w_b * r_b $$\n",
    "\n",
    "What is \"weight\"?\n",
    "\n",
    "Weight is the position betted on the stock. \n",
    "\n",
    "What does it mean to have negative weight? \n",
    "\n",
    "It means you're shorting. \n",
    "\n",
    "By shorting, you borrow stocks and sell them to the market: which gives you cash. \n",
    "\n",
    "You can use this cash to long the stock. \n",
    "\n",
    "As you can see, long-short can have varing book size. "
   ]
  },
  {
   "cell_type": "code",
   "execution_count": 172,
   "metadata": {},
   "outputs": [],
   "source": [
    "def get_portfolio_avg_return(case: tuple) -> Tuple[tuple, float]:\n",
    "    long_sid, short_sid = case\n",
    "    \n",
    "    long_avg_return = mean.loc[long_sid]\n",
    "    short_avg_return = -mean.loc[short_sid]\n",
    "\n",
    "    returns = np.array([long_avg_return, short_avg_return])\n",
    "    weights = np.array([0.5, 0.5])\n",
    "\n",
    "    portfolio_avg_returns = np.dot(weights, returns)\n",
    "\n",
    "    return (case, portfolio_avg_returns)"
   ]
  },
  {
   "cell_type": "code",
   "execution_count": 173,
   "metadata": {},
   "outputs": [],
   "source": [
    "longshort_portfolio_returns = []\n",
    "\n",
    "for case in longshort_cases:\n",
    "    longshort_portfolio_returns.append(get_portfolio_avg_return(case))"
   ]
  },
  {
   "cell_type": "code",
   "execution_count": 174,
   "metadata": {},
   "outputs": [],
   "source": [
    "longshort_portfolio_returns = sorted(longshort_portfolio_returns, key=lambda x: x[1], reverse=True)"
   ]
  },
  {
   "cell_type": "code",
   "execution_count": 175,
   "metadata": {},
   "outputs": [
    {
     "data": {
      "text/plain": [
       "[(('AAPL', 'NFLX'), 0.0372663865),\n",
       " (('GOOG', 'NFLX'), 0.029354981500000002),\n",
       " (('AAPL', 'META'), 0.025896114499999998),\n",
       " (('AMZN', 'NFLX'), 0.020018404),\n",
       " (('GOOG', 'META'), 0.0179847095)]"
      ]
     },
     "execution_count": 175,
     "metadata": {},
     "output_type": "execute_result"
    }
   ],
   "source": [
    "# Top 5 return portfolios\n",
    "longshort_portfolio_returns[:5]"
   ]
  },
  {
   "cell_type": "code",
   "execution_count": 176,
   "metadata": {},
   "outputs": [
    {
     "data": {
      "text/plain": [
       "[(('META', 'GOOG'), -0.0179847095),\n",
       " (('NFLX', 'AMZN'), -0.020018404),\n",
       " (('META', 'AAPL'), -0.025896114499999998),\n",
       " (('NFLX', 'GOOG'), -0.029354981500000002),\n",
       " (('NFLX', 'AAPL'), -0.0372663865)]"
      ]
     },
     "execution_count": 176,
     "metadata": {},
     "output_type": "execute_result"
    }
   ],
   "source": [
    "# Bottom 5 return portfolios\n",
    "longshort_portfolio_returns[-5:]"
   ]
  },
  {
   "attachments": {},
   "cell_type": "markdown",
   "metadata": {},
   "source": [
    "### 1-2 Portfolio's volatility"
   ]
  },
  {
   "attachments": {},
   "cell_type": "markdown",
   "metadata": {},
   "source": [
    "$$ PortfolioVariance = w_a^2 \\sigma_a^2 + w_b^2 \\sigma_b^2 + 2 \\rho w_a w_b \\sigma_a \\sigma_b $$ "
   ]
  },
  {
   "cell_type": "code",
   "execution_count": 177,
   "metadata": {},
   "outputs": [],
   "source": [
    "def get_portfolio_variance(case: tuple) -> Tuple[tuple, float]:\n",
    "    long_sid, short_sid = case\n",
    "    \n",
    "    long_std = std.loc[long_sid]\n",
    "    short_std = std.loc[short_sid]\n",
    "\n",
    "    corr_coef = corr_matrix_df.loc[long_sid, short_sid]\n",
    "\n",
    "    stds = np.array([long_std, short_std])\n",
    "    weights = np.array([0.5, 0.5])\n",
    "\n",
    "    portfolio_variance = np.dot(weights ** 2, stds ** 2) + 2 * corr_coef * np.prod(weights) * np.prod(stds)\n",
    "\n",
    "    return (case, portfolio_variance)"
   ]
  },
  {
   "cell_type": "code",
   "execution_count": 178,
   "metadata": {},
   "outputs": [],
   "source": [
    "longshort_portfolio_vars = []\n",
    "\n",
    "for case in longshort_cases:\n",
    "    longshort_portfolio_vars.append(get_portfolio_variance(case))"
   ]
  },
  {
   "cell_type": "code",
   "execution_count": 179,
   "metadata": {},
   "outputs": [],
   "source": [
    "longshort_portfolio_vars = sorted(longshort_portfolio_vars, key=lambda x: x[1], reverse=True)"
   ]
  },
  {
   "cell_type": "code",
   "execution_count": 180,
   "metadata": {},
   "outputs": [
    {
     "data": {
      "text/plain": [
       "[(('NFLX', 'META'), 0.00011854272900667238),\n",
       " (('META', 'NFLX'), 0.00011854272900667238),\n",
       " (('AMZN', 'NFLX'), 0.00010582904280622674),\n",
       " (('NFLX', 'AMZN'), 0.00010582904280622674),\n",
       " (('AAPL', 'NFLX'), 9.541393892085575e-05)]"
      ]
     },
     "execution_count": 180,
     "metadata": {},
     "output_type": "execute_result"
    }
   ],
   "source": [
    "# Top 5 variance portfolios\n",
    "longshort_portfolio_vars[:5]"
   ]
  },
  {
   "cell_type": "code",
   "execution_count": 181,
   "metadata": {},
   "outputs": [
    {
     "data": {
      "text/plain": [
       "[(('AMZN', 'AAPL'), 7.397774388261782e-05),\n",
       " (('AMZN', 'GOOG'), 6.755958745209989e-05),\n",
       " (('GOOG', 'AMZN'), 6.755958745209989e-05),\n",
       " (('AAPL', 'GOOG'), 6.651794872231761e-05),\n",
       " (('GOOG', 'AAPL'), 6.651794872231761e-05)]"
      ]
     },
     "execution_count": 181,
     "metadata": {},
     "output_type": "execute_result"
    }
   ],
   "source": [
    "# Botoom 5 variance portfolios\n",
    "longshort_portfolio_vars[-5:]"
   ]
  },
  {
   "attachments": {},
   "cell_type": "markdown",
   "metadata": {},
   "source": [
    "### Sharpe ratio"
   ]
  },
  {
   "cell_type": "code",
   "execution_count": 182,
   "metadata": {},
   "outputs": [],
   "source": [
    "port_returns_dict = dict(longshort_portfolio_returns)\n",
    "port_vars_dict = dict(longshort_portfolio_vars)"
   ]
  },
  {
   "cell_type": "code",
   "execution_count": 183,
   "metadata": {},
   "outputs": [],
   "source": [
    "longshort_portfolio_sharpe = []\n",
    "\n",
    "for case in longshort_cases:\n",
    "    ret = port_returns_dict[case]\n",
    "    std = np.sqrt(port_vars_dict[case])\n",
    "\n",
    "    sharpe = ret / std\n",
    "\n",
    "    longshort_portfolio_sharpe.append((case, sharpe))"
   ]
  },
  {
   "cell_type": "code",
   "execution_count": 184,
   "metadata": {},
   "outputs": [],
   "source": [
    "longshort_portfolio_sharpe = sorted(longshort_portfolio_sharpe, key=lambda x: x[1], reverse=True)"
   ]
  },
  {
   "cell_type": "code",
   "execution_count": 185,
   "metadata": {},
   "outputs": [
    {
     "data": {
      "text/plain": [
       "[(('AAPL', 'NFLX'), 3.8151478355174087),\n",
       " (('GOOG', 'NFLX'), 3.0916307973593753),\n",
       " (('AAPL', 'META'), 2.770699465117833),\n",
       " (('AAPL', 'AMZN'), 2.0053388225881084),\n",
       " (('GOOG', 'META'), 1.9684571979620828)]"
      ]
     },
     "execution_count": 185,
     "metadata": {},
     "output_type": "execute_result"
    }
   ],
   "source": [
    "# Top 5 variance portfolios\n",
    "longshort_portfolio_sharpe[:5]"
   ]
  },
  {
   "attachments": {},
   "cell_type": "markdown",
   "metadata": {},
   "source": [
    "### Answer\n",
    "\n",
    "I'll choose `('AAPL', 'NFLX')` since it has the highest sharpe ratio"
   ]
  },
  {
   "cell_type": "code",
   "execution_count": 186,
   "metadata": {},
   "outputs": [
    {
     "name": "stdout",
     "output_type": "stream",
     "text": [
      "Portfolio: Long 1 AAPL / Short 1 NFLX\n",
      "Portfolio return: 0.0373\n",
      "Portfolio std: 0.0098\n"
     ]
    }
   ],
   "source": [
    "portfolio = ('AAPL', 'NFLX')\n",
    "\n",
    "print(f'Portfolio: Long 1 {portfolio[0]} / Short 1 {portfolio[1]}')\n",
    "print(f'Portfolio return: {port_returns_dict[portfolio]:.4f}')\n",
    "print(f'Portfolio std: {np.sqrt(port_vars_dict[portfolio]):.4f}')"
   ]
  },
  {
   "cell_type": "code",
   "execution_count": 187,
   "metadata": {},
   "outputs": [
    {
     "data": {
      "text/plain": [
       "9.541393892085575e-05"
      ]
     },
     "execution_count": 187,
     "metadata": {},
     "output_type": "execute_result"
    }
   ],
   "source": [
    "port_vars_dict[portfolio]"
   ]
  },
  {
   "attachments": {},
   "cell_type": "markdown",
   "metadata": {},
   "source": [
    "## Step 2\n",
    "\n",
    "Answer the following questions:\n",
    "\n",
    "Each Team Member/Portfolio Manager will answer the following questions about their\n",
    "own portfolio:"
   ]
  },
  {
   "attachments": {},
   "cell_type": "markdown",
   "metadata": {},
   "source": [
    "### 2-1 Shorting\n",
    "\n",
    "#### a. Can this portfolio be shorted? (Hint: Yes, but be sure to explain part b)"
   ]
  },
  {
   "cell_type": "code",
   "execution_count": null,
   "metadata": {},
   "outputs": [],
   "source": []
  },
  {
   "attachments": {},
   "cell_type": "markdown",
   "metadata": {},
   "source": [
    "## Step 3"
   ]
  },
  {
   "cell_type": "markdown",
   "metadata": {},
   "source": []
  }
 ],
 "metadata": {
  "kernelspec": {
   "display_name": "Python 3.8.13 ('sandbox38')",
   "language": "python",
   "name": "python3"
  },
  "language_info": {
   "codemirror_mode": {
    "name": "ipython",
    "version": 3
   },
   "file_extension": ".py",
   "mimetype": "text/x-python",
   "name": "python",
   "nbconvert_exporter": "python",
   "pygments_lexer": "ipython3",
   "version": "3.8.13"
  },
  "orig_nbformat": 4,
  "vscode": {
   "interpreter": {
    "hash": "43bd92a372794bd421f35bcc4cb2908851e192b974b03c533f4002c74631e781"
   }
  }
 },
 "nbformat": 4,
 "nbformat_minor": 2
}
