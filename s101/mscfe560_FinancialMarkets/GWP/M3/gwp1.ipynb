{
 "cells": [
  {
   "attachments": {},
   "cell_type": "markdown",
   "metadata": {},
   "source": [
    "# GWP # 1\n",
    "\n",
    "s101 MScFE 560 Financial Markets \n",
    "\n",
    "Jaepil Choi\n",
    "\n",
    "## My Portfolio: Portfolio A\n",
    "\n",
    "Buy 1 stock and short 1 stock"
   ]
  },
  {
   "cell_type": "code",
   "execution_count": 3,
   "metadata": {},
   "outputs": [],
   "source": [
    "from typing import Tuple\n",
    "\n",
    "import pandas as pd\n",
    "import numpy as np\n",
    "\n",
    "from itertools import permutations"
   ]
  },
  {
   "attachments": {},
   "cell_type": "markdown",
   "metadata": {},
   "source": [
    "## Step 1\n",
    "\n",
    "For each investment, you are given statistics in this .csv file the stock’s.\n",
    "You also have the correlation and covariance matrix of historical returns (download this\n",
    ".csv file)\n",
    "\n",
    "1. Average return\n",
    "2. Volatility\n",
    "3. Skewness\n",
    "4. Kurtosis\n",
    "\n",
    "You must compute the portfolio’s average return and portfolio volatility. You do not\n",
    "need to compute the portfolio skewness and portfolio kurtosis."
   ]
  },
  {
   "cell_type": "code",
   "execution_count": 4,
   "metadata": {},
   "outputs": [
    {
     "data": {
      "text/html": [
       "<div>\n",
       "<style scoped>\n",
       "    .dataframe tbody tr th:only-of-type {\n",
       "        vertical-align: middle;\n",
       "    }\n",
       "\n",
       "    .dataframe tbody tr th {\n",
       "        vertical-align: top;\n",
       "    }\n",
       "\n",
       "    .dataframe thead th {\n",
       "        text-align: right;\n",
       "    }\n",
       "</style>\n",
       "<table border=\"1\" class=\"dataframe\">\n",
       "  <thead>\n",
       "    <tr style=\"text-align: right;\">\n",
       "      <th></th>\n",
       "      <th>AAPL</th>\n",
       "      <th>AMZN</th>\n",
       "      <th>NFLX</th>\n",
       "      <th>META</th>\n",
       "      <th>GOOG</th>\n",
       "    </tr>\n",
       "  </thead>\n",
       "  <tbody>\n",
       "    <tr>\n",
       "      <th>Mean</th>\n",
       "      <td>0.044858</td>\n",
       "      <td>0.010362</td>\n",
       "      <td>-0.029675</td>\n",
       "      <td>-0.006934</td>\n",
       "      <td>0.029035</td>\n",
       "    </tr>\n",
       "    <tr>\n",
       "      <th>St Dev</th>\n",
       "      <td>0.009320</td>\n",
       "      <td>0.009557</td>\n",
       "      <td>0.013409</td>\n",
       "      <td>0.011582</td>\n",
       "      <td>0.008376</td>\n",
       "    </tr>\n",
       "    <tr>\n",
       "      <th>Skew</th>\n",
       "      <td>-0.335173</td>\n",
       "      <td>-0.312865</td>\n",
       "      <td>-3.101654</td>\n",
       "      <td>-1.936506</td>\n",
       "      <td>-0.197700</td>\n",
       "    </tr>\n",
       "    <tr>\n",
       "      <th>Kurt</th>\n",
       "      <td>5.034093</td>\n",
       "      <td>4.729806</td>\n",
       "      <td>41.968015</td>\n",
       "      <td>23.289236</td>\n",
       "      <td>4.310171</td>\n",
       "    </tr>\n",
       "  </tbody>\n",
       "</table>\n",
       "</div>"
      ],
      "text/plain": [
       "            AAPL      AMZN       NFLX       META      GOOG\n",
       "Mean    0.044858  0.010362  -0.029675  -0.006934  0.029035\n",
       "St Dev  0.009320  0.009557   0.013409   0.011582  0.008376\n",
       "Skew   -0.335173 -0.312865  -3.101654  -1.936506 -0.197700\n",
       "Kurt    5.034093  4.729806  41.968015  23.289236  4.310171"
      ]
     },
     "execution_count": 4,
     "metadata": {},
     "output_type": "execute_result"
    }
   ],
   "source": [
    "statistics_df = pd.read_csv('MScFE560_FM_GWP1_Data.csv', nrows=4, index_col=0)\n",
    "statistics_df = statistics_df.iloc[:, :5]\n",
    "statistics_df"
   ]
  },
  {
   "attachments": {},
   "cell_type": "markdown",
   "metadata": {},
   "source": [
    "In covariance matrix, `GOOGL` (Alphabet Inc Class A) is given instead of `GOOG` (Alphabet Inc Class C). \n",
    "\n",
    "To match the name, I changed `GOOGL` to `GOOG`"
   ]
  },
  {
   "cell_type": "code",
   "execution_count": 5,
   "metadata": {},
   "outputs": [
    {
     "data": {
      "text/html": [
       "<div>\n",
       "<style scoped>\n",
       "    .dataframe tbody tr th:only-of-type {\n",
       "        vertical-align: middle;\n",
       "    }\n",
       "\n",
       "    .dataframe tbody tr th {\n",
       "        vertical-align: top;\n",
       "    }\n",
       "\n",
       "    .dataframe thead th {\n",
       "        text-align: right;\n",
       "    }\n",
       "</style>\n",
       "<table border=\"1\" class=\"dataframe\">\n",
       "  <thead>\n",
       "    <tr style=\"text-align: right;\">\n",
       "      <th></th>\n",
       "      <th>AAPL</th>\n",
       "      <th>AMZN</th>\n",
       "      <th>NFLX</th>\n",
       "      <th>META</th>\n",
       "      <th>GOOG</th>\n",
       "    </tr>\n",
       "  </thead>\n",
       "  <tbody>\n",
       "    <tr>\n",
       "      <th>AAPL</th>\n",
       "      <td>1.000000</td>\n",
       "      <td>0.660739</td>\n",
       "      <td>0.460041</td>\n",
       "      <td>0.594785</td>\n",
       "      <td>0.698431</td>\n",
       "    </tr>\n",
       "    <tr>\n",
       "      <th>AMZN</th>\n",
       "      <td>0.660739</td>\n",
       "      <td>1.000000</td>\n",
       "      <td>0.593812</td>\n",
       "      <td>0.626198</td>\n",
       "      <td>0.679323</td>\n",
       "    </tr>\n",
       "    <tr>\n",
       "      <th>NFLX</th>\n",
       "      <td>0.460041</td>\n",
       "      <td>0.593812</td>\n",
       "      <td>1.000000</td>\n",
       "      <td>0.515892</td>\n",
       "      <td>0.492697</td>\n",
       "    </tr>\n",
       "    <tr>\n",
       "      <th>META</th>\n",
       "      <td>0.594785</td>\n",
       "      <td>0.626198</td>\n",
       "      <td>0.515892</td>\n",
       "      <td>1.000000</td>\n",
       "      <td>0.668024</td>\n",
       "    </tr>\n",
       "    <tr>\n",
       "      <th>GOOG</th>\n",
       "      <td>0.698431</td>\n",
       "      <td>0.679323</td>\n",
       "      <td>0.492697</td>\n",
       "      <td>0.668024</td>\n",
       "      <td>1.000000</td>\n",
       "    </tr>\n",
       "  </tbody>\n",
       "</table>\n",
       "</div>"
      ],
      "text/plain": [
       "          AAPL      AMZN      NFLX      META      GOOG\n",
       "AAPL  1.000000  0.660739  0.460041  0.594785  0.698431\n",
       "AMZN  0.660739  1.000000  0.593812  0.626198  0.679323\n",
       "NFLX  0.460041  0.593812  1.000000  0.515892  0.492697\n",
       "META  0.594785  0.626198  0.515892  1.000000  0.668024\n",
       "GOOG  0.698431  0.679323  0.492697  0.668024  1.000000"
      ]
     },
     "execution_count": 5,
     "metadata": {},
     "output_type": "execute_result"
    }
   ],
   "source": [
    "corr_matrix_df = pd.read_csv('MScFE560_FM_GWP1_Data.csv', skiprows=5, nrows=6, header=1, index_col=0)\n",
    "corr_matrix_df = corr_matrix_df.iloc[:, :5]\n",
    "corr_matrix_df.rename({'GOOGL': 'GOOG'}, axis=0, inplace=True)\n",
    "corr_matrix_df.rename({'GOOGL': 'GOOG'}, axis=1, inplace=True)\n",
    "corr_matrix_df"
   ]
  },
  {
   "attachments": {},
   "cell_type": "markdown",
   "metadata": {},
   "source": [
    "### 1-1 Portfolio's average return"
   ]
  },
  {
   "cell_type": "code",
   "execution_count": 6,
   "metadata": {},
   "outputs": [],
   "source": [
    "mean = statistics_df.loc['Mean', :] \n",
    "std = statistics_df.loc['St Dev', :]"
   ]
  },
  {
   "cell_type": "code",
   "execution_count": 7,
   "metadata": {},
   "outputs": [
    {
     "data": {
      "text/plain": [
       "Index(['AAPL', 'AMZN', 'NFLX', 'META', 'GOOG'], dtype='object')"
      ]
     },
     "execution_count": 7,
     "metadata": {},
     "output_type": "execute_result"
    }
   ],
   "source": [
    "sid_list = statistics_df.columns\n",
    "sid_list"
   ]
  },
  {
   "attachments": {},
   "cell_type": "markdown",
   "metadata": {},
   "source": [
    "Since I can long 1 stock and short 1 stock, there are $ 2^5 $ number of cases"
   ]
  },
  {
   "cell_type": "code",
   "execution_count": 8,
   "metadata": {},
   "outputs": [],
   "source": [
    "longshort_cases = permutations(sid_list, 2)\n",
    "longshort_cases = list(longshort_cases)"
   ]
  },
  {
   "attachments": {},
   "cell_type": "markdown",
   "metadata": {},
   "source": [
    "Portfolio return formula:\n",
    "\n",
    "$$ PortfolioReturn = w_a * r_a + w_b * r_b $$\n",
    "\n",
    "What is \"weight\"?\n",
    "\n",
    "Weight is the position betted on the stock. \n",
    "\n",
    "What does it mean to have negative weight? \n",
    "\n",
    "It means you're shorting. \n",
    "\n",
    "By shorting, you borrow stocks and sell them to the market: which gives you cash. \n",
    "\n",
    "You can use this cash to long the stock. \n",
    "\n",
    "As you can see, long-short can have varing book size. "
   ]
  },
  {
   "attachments": {},
   "cell_type": "markdown",
   "metadata": {},
   "source": [
    "In this assignment, I'm longing 1 AAPL and shorting 1 NFLX. \n",
    "\n",
    "As of 2022-10-24, AAPL is \\$147.27 and NFLX is \\$289.57\n",
    "\n",
    "That is, weights should be:\n",
    "\n",
    "`AAPL:NFLX = +147.27:-289.57`\n"
   ]
  },
  {
   "cell_type": "code",
   "execution_count": 18,
   "metadata": {},
   "outputs": [
    {
     "data": {
      "text/plain": [
       "array([ 0.33712572, -0.66287428])"
      ]
     },
     "execution_count": 18,
     "metadata": {},
     "output_type": "execute_result"
    }
   ],
   "source": [
    "A = 147.27\n",
    "B = -289.57\n",
    "\n",
    "gross_position = abs(A) + abs(B)\n",
    "weight_A = A / gross_position\n",
    "weight_B = B / gross_position\n",
    "\n",
    "WEIGHTS = np.array([weight_A, weight_B])\n",
    "WEIGHTS"
   ]
  },
  {
   "cell_type": "code",
   "execution_count": 19,
   "metadata": {},
   "outputs": [],
   "source": [
    "def get_portfolio_avg_return(case: tuple) -> Tuple[tuple, float]:\n",
    "    long_sid, short_sid = case\n",
    "    \n",
    "    long_avg_return = mean.loc[long_sid]\n",
    "    short_avg_return = mean.loc[short_sid]\n",
    "\n",
    "    returns = np.array([long_avg_return, short_avg_return])\n",
    "\n",
    "    portfolio_avg_returns = np.dot(WEIGHTS, returns)\n",
    "\n",
    "    return (case, portfolio_avg_returns)"
   ]
  },
  {
   "cell_type": "code",
   "execution_count": 20,
   "metadata": {},
   "outputs": [],
   "source": [
    "longshort_portfolio_returns = []\n",
    "\n",
    "for case in longshort_cases:\n",
    "    longshort_portfolio_returns.append(get_portfolio_avg_return(case))"
   ]
  },
  {
   "cell_type": "code",
   "execution_count": 21,
   "metadata": {},
   "outputs": [],
   "source": [
    "longshort_portfolio_returns = sorted(longshort_portfolio_returns, key=lambda x: x[1], reverse=True)"
   ]
  },
  {
   "cell_type": "code",
   "execution_count": 22,
   "metadata": {},
   "outputs": [
    {
     "data": {
      "text/plain": [
       "[(('AAPL', 'NFLX'), 0.03479344759273418),\n",
       " (('GOOG', 'NFLX'), 0.02945917136184873),\n",
       " (('AMZN', 'NFLX'), 0.023163970517489238),\n",
       " (('AAPL', 'META'), 0.019719325886663308),\n",
       " (('META', 'NFLX'), 0.017332955044364065)]"
      ]
     },
     "execution_count": 22,
     "metadata": {},
     "output_type": "execute_result"
    }
   ],
   "source": [
    "# Top 5 return portfolios\n",
    "longshort_portfolio_returns[:5]"
   ]
  },
  {
   "cell_type": "code",
   "execution_count": 23,
   "metadata": {},
   "outputs": [
    {
     "data": {
      "text/plain": [
       "[(('META', 'GOOG'), -0.02158436934422214),\n",
       " (('AMZN', 'AAPL'), -0.02624188764021151),\n",
       " (('NFLX', 'GOOG'), -0.029250791638151266),\n",
       " (('META', 'AAPL'), -0.03207290311333668),\n",
       " (('NFLX', 'AAPL'), -0.03973932540726581)]"
      ]
     },
     "execution_count": 23,
     "metadata": {},
     "output_type": "execute_result"
    }
   ],
   "source": [
    "# Bottom 5 return portfolios\n",
    "longshort_portfolio_returns[-5:]"
   ]
  },
  {
   "attachments": {},
   "cell_type": "markdown",
   "metadata": {},
   "source": [
    "### 1-2 Portfolio's volatility"
   ]
  },
  {
   "attachments": {},
   "cell_type": "markdown",
   "metadata": {},
   "source": [
    "$$ PortfolioVariance = w_a^2 \\sigma_a^2 + w_b^2 \\sigma_b^2 + 2 \\rho w_a w_b \\sigma_a \\sigma_b $$ "
   ]
  },
  {
   "cell_type": "code",
   "execution_count": 24,
   "metadata": {},
   "outputs": [],
   "source": [
    "def get_portfolio_variance(case: tuple) -> Tuple[tuple, float]:\n",
    "    long_sid, short_sid = case\n",
    "    \n",
    "    long_std = std.loc[long_sid]\n",
    "    short_std = std.loc[short_sid]\n",
    "\n",
    "    corr_coef = corr_matrix_df.loc[long_sid, short_sid]\n",
    "\n",
    "    stds = np.array([long_std, short_std])\n",
    "\n",
    "    portfolio_variance = np.dot(WEIGHTS ** 2, stds ** 2) + 2 * corr_coef * np.prod(WEIGHTS) * np.prod(stds)\n",
    "\n",
    "    return (case, portfolio_variance)"
   ]
  },
  {
   "cell_type": "code",
   "execution_count": 25,
   "metadata": {},
   "outputs": [],
   "source": [
    "longshort_portfolio_vars = []\n",
    "\n",
    "for case in longshort_cases:\n",
    "    longshort_portfolio_vars.append(get_portfolio_variance(case))"
   ]
  },
  {
   "cell_type": "code",
   "execution_count": 26,
   "metadata": {},
   "outputs": [],
   "source": [
    "longshort_portfolio_vars = sorted(longshort_portfolio_vars, key=lambda x: x[1], reverse=True)"
   ]
  },
  {
   "cell_type": "code",
   "execution_count": 27,
   "metadata": {},
   "outputs": [
    {
     "data": {
      "text/plain": [
       "[(('AAPL', 'NFLX'), 6.317947732046371e-05),\n",
       " (('GOOG', 'NFLX'), 6.22448083809962e-05),\n",
       " (('META', 'NFLX'), 5.844037432633868e-05),\n",
       " (('AMZN', 'NFLX'), 5.5373417890564505e-05),\n",
       " (('NFLX', 'META'), 4.356765112181394e-05)]"
      ]
     },
     "execution_count": 27,
     "metadata": {},
     "output_type": "execute_result"
    }
   ],
   "source": [
    "# Top 5 variance portfolios\n",
    "longshort_portfolio_vars[:5]"
   ]
  },
  {
   "cell_type": "code",
   "execution_count": 28,
   "metadata": {},
   "outputs": [
    {
     "data": {
      "text/plain": [
       "[(('AMZN', 'AAPL'), 2.2246911366866702e-05),\n",
       " (('GOOG', 'AAPL'), 2.1775417246736545e-05),\n",
       " (('META', 'GOOG'), 1.7107775582243906e-05),\n",
       " (('AMZN', 'GOOG'), 1.6902541468644443e-05),\n",
       " (('AAPL', 'GOOG'), 1.6329774029774797e-05)]"
      ]
     },
     "execution_count": 28,
     "metadata": {},
     "output_type": "execute_result"
    }
   ],
   "source": [
    "# Botoom 5 variance portfolios\n",
    "longshort_portfolio_vars[-5:]"
   ]
  },
  {
   "attachments": {},
   "cell_type": "markdown",
   "metadata": {},
   "source": [
    "### Sharpe ratio\n",
    "\n",
    "Let's bring `r_f`(risk-free rate) from real world data.\n",
    "\n",
    "https://ycharts.com/indicators/10_year_treasury_rate\n",
    "\n",
    "The 10 Year Treasury Rate is the yield received for investing in a US government issued treasury security that has a maturity of 10 year. The 10 year treasury yield is included on the longer end of the yield curve. \n",
    "\n",
    "Many analysts will use the 10 year yield as the \"risk free\" rate when valuing the markets or an individual security.\n",
    "\n",
    "\n",
    "\n",
    "**As of October 21, 2022:\t4.21%**"
   ]
  },
  {
   "cell_type": "code",
   "execution_count": 33,
   "metadata": {},
   "outputs": [],
   "source": [
    "r_f = 0.0421"
   ]
  },
  {
   "cell_type": "code",
   "execution_count": 34,
   "metadata": {},
   "outputs": [],
   "source": [
    "port_returns_dict = dict(longshort_portfolio_returns)\n",
    "port_vars_dict = dict(longshort_portfolio_vars)"
   ]
  },
  {
   "cell_type": "code",
   "execution_count": 35,
   "metadata": {},
   "outputs": [],
   "source": [
    "longshort_portfolio_sharpe = []\n",
    "\n",
    "for case in longshort_cases:\n",
    "    ret = port_returns_dict[case]\n",
    "    std = np.sqrt(port_vars_dict[case])\n",
    "\n",
    "    sharpe = (ret-r_f) / std\n",
    "\n",
    "    longshort_portfolio_sharpe.append((case, sharpe))"
   ]
  },
  {
   "cell_type": "code",
   "execution_count": 36,
   "metadata": {},
   "outputs": [],
   "source": [
    "longshort_portfolio_sharpe = sorted(longshort_portfolio_sharpe, key=lambda x: x[1], reverse=True)"
   ]
  },
  {
   "cell_type": "code",
   "execution_count": 37,
   "metadata": {},
   "outputs": [
    {
     "data": {
      "text/plain": [
       "[(('AAPL', 'NFLX'), -0.9192306345117941),\n",
       " (('GOOG', 'NFLX'), -1.6022267447936018),\n",
       " (('AMZN', 'NFLX'), -2.5447097608217453),\n",
       " (('META', 'NFLX'), -3.239796246583948),\n",
       " (('AAPL', 'META'), -3.533491516828713)]"
      ]
     },
     "execution_count": 37,
     "metadata": {},
     "output_type": "execute_result"
    }
   ],
   "source": [
    "# Top 5 variance portfolios\n",
    "longshort_portfolio_sharpe[:5]"
   ]
  },
  {
   "attachments": {},
   "cell_type": "markdown",
   "metadata": {},
   "source": [
    "### Answer\n",
    "\n",
    "I'll choose `('AAPL', 'NFLX')` since it has the highest sharpe ratio"
   ]
  },
  {
   "cell_type": "code",
   "execution_count": 42,
   "metadata": {},
   "outputs": [
    {
     "name": "stdout",
     "output_type": "stream",
     "text": [
      "Portfolio: Long 1 AAPL / Short 1 NFLX\n",
      "Portfolio return: 0.0348\n",
      "Portfolio std: 0.0079\n",
      "Portfolio sharpe: -0.9192\n"
     ]
    }
   ],
   "source": [
    "portfolio = ('AAPL', 'NFLX')\n",
    "\n",
    "print(f'Portfolio: Long 1 {portfolio[0]} / Short 1 {portfolio[1]}')\n",
    "print(f'Portfolio return: {port_returns_dict[portfolio]:.4f}')\n",
    "print(f'Portfolio std: {np.sqrt(port_vars_dict[portfolio]):.4f}')\n",
    "print(f'Portfolio sharpe: {longshort_portfolio_sharpe[0][1]:.4f}')"
   ]
  },
  {
   "attachments": {},
   "cell_type": "markdown",
   "metadata": {},
   "source": [
    "## Step 2\n",
    "\n",
    "Answer the following questions:\n",
    "\n",
    "Each Team Member/Portfolio Manager will answer the following questions about their\n",
    "own portfolio:"
   ]
  },
  {
   "attachments": {},
   "cell_type": "markdown",
   "metadata": {},
   "source": [
    "### 2-1 Shorting\n",
    "\n",
    "#### a. Can this portfolio be shorted? (Hint: Yes, but be sure to explain part b)"
   ]
  },
  {
   "cell_type": "code",
   "execution_count": null,
   "metadata": {},
   "outputs": [],
   "source": []
  },
  {
   "attachments": {},
   "cell_type": "markdown",
   "metadata": {},
   "source": [
    "## Step 3"
   ]
  },
  {
   "cell_type": "markdown",
   "metadata": {},
   "source": []
  }
 ],
 "metadata": {
  "kernelspec": {
   "display_name": "Python 3.8.13 ('sandbox38')",
   "language": "python",
   "name": "python3"
  },
  "language_info": {
   "codemirror_mode": {
    "name": "ipython",
    "version": 3
   },
   "file_extension": ".py",
   "mimetype": "text/x-python",
   "name": "python",
   "nbconvert_exporter": "python",
   "pygments_lexer": "ipython3",
   "version": "3.8.13"
  },
  "orig_nbformat": 4,
  "vscode": {
   "interpreter": {
    "hash": "43bd92a372794bd421f35bcc4cb2908851e192b974b03c533f4002c74631e781"
   }
  }
 },
 "nbformat": 4,
 "nbformat_minor": 2
}
